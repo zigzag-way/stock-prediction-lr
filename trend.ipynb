{
 "cells": [
  {
   "cell_type": "code",
   "execution_count": null,
   "metadata": {},
   "outputs": [],
   "source": [
    "%reload_ext autoreload\n",
    "%autoreload 2\n",
    "%matplotlib inline"
   ]
  },
  {
   "cell_type": "code",
   "execution_count": null,
   "metadata": {},
   "outputs": [],
   "source": [
    "import os\n",
    "import settings\n",
    "import pandas as pd\n",
    "import numpy as np\n",
    "import matplotlib.pyplot as plt\n",
    "import matplotlib.dates as mdates\n",
    "from sklearn.linear_model import LinearRegression\n",
    "import prepare"
   ]
  },
  {
   "cell_type": "code",
   "execution_count": null,
   "metadata": {},
   "outputs": [],
   "source": [
    "from pandas.plotting import register_matplotlib_converters\n",
    "register_matplotlib_converters()"
   ]
  },
  {
   "cell_type": "code",
   "execution_count": null,
   "metadata": {},
   "outputs": [],
   "source": [
    "def read():\n",
    "    X = pd.read_csv(os.path.join(settings.PROCESSED_DIR, settings.PROCESSED_X), header=0)\n",
    "    y = pd.read_csv(os.path.join(settings.PROCESSED_DIR, settings.PROCESSED_Y), header=0)\n",
    "    X['Date'] = pd.to_datetime(X['Date'], format='%Y-%m-%d')\n",
    "    return X, y"
   ]
  },
  {
   "cell_type": "code",
   "execution_count": null,
   "metadata": {},
   "outputs": [],
   "source": [
    "def plot_trend(x, predict, y, title):\n",
    "    plt.xticks(rotation=45)\n",
    "    plt.plot_date(x, y, fmt='b-', xdate=True, ydate=False, label='Real value')\n",
    "    plt.plot_date(x, predict, fmt='r-', xdate=True, ydate=False, label='Predicted value')\n",
    "    plt.legend(loc='upper center')\n",
    "    plt.ylabel('Close prices')\n",
    "    plt.title(title)\n",
    "    plt.grid()\n",
    "    plt.show()"
   ]
  },
  {
   "cell_type": "code",
   "execution_count": null,
   "metadata": {},
   "outputs": [],
   "source": [
    "def modify(X, columns):\n",
    "    columns.append('Date2num')\n",
    "    returnX = X.loc[:, columns]\n",
    "    return returnX"
   ]
  },
  {
   "cell_type": "code",
   "execution_count": null,
   "metadata": {},
   "outputs": [],
   "source": [
    "def predict_and_plot(X, date):\n",
    "    # m - number of examples\n",
    "    # n - number of features\n",
    "    m, n = X.shape\n",
    "\n",
    "    # test set is 30%\n",
    "    # train set is 70%\n",
    "    X_train = X.loc[:np.floor(m*0.7)]\n",
    "    X_test = X.loc[np.floor(m*0.7) + 1:]\n",
    "\n",
    "    y_train = y.loc[:np.floor(m*0.7)]\n",
    "    y_test = y.loc[np.floor(m*0.7) + 1:]\n",
    "\n",
    "    date_test = date.loc[np.floor(m*0.7) + 1:]\n",
    "\n",
    "    # Create linear regression object\n",
    "    lr = LinearRegression()\n",
    "\n",
    "    # Train the model using the training sets\n",
    "    lr.fit(X_train, y_train)\n",
    "\n",
    "    # The coefficients\n",
    "    print('Coefficients: \\n', lr.coef_)\n",
    "    # The mean square error\n",
    "    print(\"Number of variables: %d; Residual sum of squares: %.2f; Variance score: %.2f\"\n",
    "          % (n, np.mean((lr.predict(X_test) - y_test) ** 2), lr.score(X_test, y_test)))\n",
    "\n",
    "    # Plot outputs\n",
    "    plot_trend(date_test, lr.predict(X_test), y_test, 'TEST SET: Facebook Inc(NASDAQ:FB)')\n",
    "    plot_trend(date, lr.predict(X), y, 'FULL SET: Facebook Inc(NASDAQ:FB)')"
   ]
  },
  {
   "cell_type": "code",
   "execution_count": null,
   "metadata": {},
   "outputs": [],
   "source": [
    "if __name__ == \"__main__\":\n",
    "    prices = prepare.read()\n",
    "    prepare.write(prices)\n",
    "\n",
    "    X, y = read()\n",
    "    X['Date2num'] = X['Date'].apply(lambda x: mdates.date2num(x))\n",
    "    date = X.loc[:, ['Date']]\n",
    "    del X['Date']\n",
    "\n",
    "    # predict with one variable - time\n",
    "    X1 = modify(X, [])\n",
    "    predict_and_plot(X1, date)\n",
    "\n",
    "    # predict with two variables - time and open price the same day\n",
    "    X2 = modify(X, ['Open'])\n",
    "    predict_and_plot(X2, date)\n",
    "\n",
    "    X3 = modify(X, ['Open','OpenPrev','ClosePrev'])\n",
    "    predict_and_plot(X3, date)\n",
    "\n",
    "    X5 = modify(X, ['Open','OpenPrev','ClosePrev','OpenPrev2','ClosePrev2'])\n",
    "    predict_and_plot(X5, date)\n",
    "\n",
    "    X7 = modify(X, ['Open','OpenPrev','ClosePrev','OpenPrev2','ClosePrev2','OpenPrev3','ClosePrev3'])\n",
    "    predict_and_plot(X7, date)\n",
    "\n",
    "    X9 = modify(X, ['Open','OpenPrev','ClosePrev','OpenPrev2','ClosePrev2','OpenPrev3','ClosePrev3','OpenPrev4','ClosePrev4'])\n",
    "    predict_and_plot(X9, date)\n",
    "\n",
    "    X11 = modify(X, ['Open','OpenPrev','ClosePrev','OpenPrev2','ClosePrev2','OpenPrev3','ClosePrev3','OpenPrev4','ClosePrev4','OpenPrev5','ClosePrev5'])\n",
    "    predict_and_plot(X11, date)"
   ]
  },
  {
   "cell_type": "code",
   "execution_count": null,
   "metadata": {},
   "outputs": [],
   "source": []
  }
 ],
 "metadata": {
  "kernelspec": {
   "display_name": "Python 3",
   "language": "python",
   "name": "python3"
  },
  "language_info": {
   "codemirror_mode": {
    "name": "ipython",
    "version": 3
   },
   "file_extension": ".py",
   "mimetype": "text/x-python",
   "name": "python",
   "nbconvert_exporter": "python",
   "pygments_lexer": "ipython3",
   "version": "3.7.3"
  }
 },
 "nbformat": 4,
 "nbformat_minor": 2
}
