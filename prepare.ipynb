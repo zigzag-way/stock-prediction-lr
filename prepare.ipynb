{
 "cells": [
  {
   "cell_type": "code",
   "execution_count": 1,
   "metadata": {},
   "outputs": [],
   "source": [
    "import os\n",
    "import settings\n",
    "import pandas as pd"
   ]
  },
  {
   "cell_type": "code",
   "execution_count": 59,
   "metadata": {},
   "outputs": [],
   "source": [
    "def read():\n",
    "    prices = pd.read_csv(os.path.join(settings.DATA_DIR, settings.DATA_FILENAME),header=0)\n",
    "    prices = clean(prices)\n",
    "    return prices"
   ]
  },
  {
   "cell_type": "code",
   "execution_count": 60,
   "metadata": {},
   "outputs": [],
   "source": [
    "def clean(prices):\n",
    "    (m, n) = prices.shape\n",
    "    prices['Date'] = pd.to_datetime(prices['Date'], format='%Y-%m-%d')\n",
    "    prices = prices.loc[:, ['Date', 'Open', 'Close']]\n",
    "\n",
    "    # Add new column \"Close Price at the Previous Day\" and \"Open Price at the Previous Day\"\n",
    "    prevColumn = prices.loc[:, ['Open', 'Close']].assign(index = lambda x: x.index-1)\n",
    "    prevColumn = prevColumn.set_index('index')\n",
    "    prices = prices.join(prevColumn, rsuffix='Prev')\n",
    "\n",
    "    # Add new column \"Close Price at the Day Before\" and \"Open Price at the Day Before\"\n",
    "    prevColumn = prices.loc[:, ['Open', 'Close']].assign(index = lambda x: x.index-2)\n",
    "    prevColumn = prevColumn.set_index('index')\n",
    "    prices = prices.join(prevColumn, rsuffix='Prev2')\n",
    "\n",
    "    prevColumn = prices.loc[:, ['Open', 'Close']].assign(index = lambda x: x.index-3)\n",
    "    prevColumn = prevColumn.set_index('index')\n",
    "    prices = prices.join(prevColumn, rsuffix='Prev3')\n",
    "\n",
    "    prevColumn = prices.loc[:, ['Open', 'Close']].assign(index = lambda x: x.index-4)\n",
    "    prevColumn = prevColumn.set_index('index')\n",
    "    prices = prices.join(prevColumn, rsuffix='Prev4')\n",
    "\n",
    "    prevColumn = prices.loc[:, ['Open', 'Close']].assign(index = lambda x: x.index-5)\n",
    "    prevColumn = prevColumn.set_index('index')\n",
    "    prices = prices.join(prevColumn, rsuffix='Prev5')\n",
    "\n",
    "    # No need now to save the fifth days data\n",
    "    prices = prices[:m-5]\n",
    "\n",
    "    return prices"
   ]
  },
  {
   "cell_type": "code",
   "execution_count": 61,
   "metadata": {},
   "outputs": [],
   "source": [
    "def write(data):\n",
    "    data.loc[:, ['Date','Open','OpenPrev','ClosePrev','OpenPrev2','ClosePrev2','OpenPrev3','ClosePrev3',\n",
    "                 'OpenPrev4','ClosePrev4','OpenPrev5','ClosePrev5']].\\\n",
    "        to_csv(os.path.join(settings.PROCESSED_DIR, \"trainX.csv\"), index=False)\n",
    "    data.loc[:, ['Close']].to_csv(os.path.join(settings.PROCESSED_DIR, \"trainY.csv\"), index=False)"
   ]
  },
  {
   "cell_type": "code",
   "execution_count": 62,
   "metadata": {},
   "outputs": [],
   "source": [
    "if __name__ == \"__main__\":\n",
    "    prices = read()\n",
    "    write(prices)"
   ]
  },
  {
   "cell_type": "code",
   "execution_count": null,
   "metadata": {},
   "outputs": [],
   "source": []
  }
 ],
 "metadata": {
  "kernelspec": {
   "display_name": "Python 3",
   "language": "python",
   "name": "python3"
  },
  "language_info": {
   "codemirror_mode": {
    "name": "ipython",
    "version": 3
   },
   "file_extension": ".py",
   "mimetype": "text/x-python",
   "name": "python",
   "nbconvert_exporter": "python",
   "pygments_lexer": "ipython3",
   "version": "3.7.3"
  }
 },
 "nbformat": 4,
 "nbformat_minor": 2
}
